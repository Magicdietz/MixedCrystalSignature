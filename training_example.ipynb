{
 "cells": [
  {
   "cell_type": "markdown",
   "metadata": {},
   "source": [
    "# Training of the classifier\n",
    "This example will show how to train an sklearn classifier with artificial crystalline data\n",
    "\n",
    "- First of all we will use the **CrystalAnalyzer** class to easily manage the data and feed the classifier with it.\n",
    "- A multilayer perceptron will be used as **classifier** (the shown configuration will work quite well)\n",
    "- Also a **scaler** needs to be defined, we will use the standard scaler from sklearn\n",
    "\n",
    "To gain some speedup, a pool from multiprocessing is used with 6 processes (this is optional)"
   ]
  },
  {
   "cell_type": "code",
   "execution_count": 1,
   "metadata": {},
   "outputs": [],
   "source": [
    "import multiprocessing as mp\n",
    "\n",
    "from sklearn.neural_network import MLPClassifier\n",
    "from sklearn.preprocessing import StandardScaler\n",
    "\n",
    "from crystalanalysis import CrystalAnalyzer\n",
    "from mixedcrystalsignature import MixedCrystalSignature"
   ]
  },
  {
   "cell_type": "code",
   "execution_count": 2,
   "metadata": {},
   "outputs": [],
   "source": [
    "sign_calculator=MixedCrystalSignature(solid_thresh=0.55,pool=mp.Pool(6))\n",
    "\n",
    "classifier = MLPClassifier(max_iter=300,tol=1e-5,\n",
    "                           hidden_layer_sizes=(250,),\n",
    "                           solver='adam',random_state=0, shuffle=True,\n",
    "                           activation='relu',alpha=1e-4)\n",
    "\n",
    "scaler=StandardScaler()"
   ]
  },
  {
   "cell_type": "markdown",
   "metadata": {},
   "source": [
    "## Important parameters\n",
    "- **noiselist** will provide a list of noiselevels that are used to build the test dataset (default from 0 % to 20%)\n",
    "- **train_noiselist** is the list of noiselevels that are used for training (default from 4 % to 11 %)\n",
    "- **volume** will define the volume that is to be filled with a crystal structure in x, y and z dimension ( 15,15,15 is just for demonstration, larger datasets are better!)\n",
    "- **inner_distance** this gives the distance to calculate the inner volume to avoid errors at the border of the dataset"
   ]
  },
  {
   "cell_type": "code",
   "execution_count": null,
   "metadata": {},
   "outputs": [],
   "source": [
    "noiselist=list(range(0,21))\n",
    "train_noiselist=list(range(4,12,1))\n",
    "volume=[15,15,15]\n",
    "inner_distance=2\n",
    "ca=CrystalAnalyzer(classifier,scaler,sign_calculator,\n",
    "                  noiselist=noiselist,train_noiselist=train_noiselist,\n",
    "                  volume=volume,inner_distance=inner_distance)"
   ]
  },
  {
   "cell_type": "markdown",
   "metadata": {},
   "source": [
    "## Generating the signatures for training and testing\n",
    "Now that the Crystalanalyzer is defined, we can generate the training and test signatures accordingly. \n",
    "\n",
    "- **save_training_signatures** can be used to save the training data \n",
    "- likewise, **save_test_signatures** can be used to save the test data.\n",
    "\n",
    "if you use multiprocessing it is advised to close the pool after your calculations are done."
   ]
  },
  {
   "cell_type": "code",
   "execution_count": 3,
   "metadata": {},
   "outputs": [
    {
     "name": "stdout",
     "output_type": "stream",
     "text": [
      "generating training signatures\n",
      "finished\n",
      "generating test signatures\n",
      "finished\n"
     ]
    }
   ],
   "source": [
    "ca.generate_train_signatures()\n",
    "ca.save_training_signatures(\"training_data.pkl\")\n",
    "ca.generate_test_signatures()\n",
    "ca.save_test_signatures(\"test_data.pkl\")\n",
    "\n",
    "# close and join the pool from multiprocessing\n",
    "ca.sign_calculator.p.close()\n",
    "ca.sign_calculator.p.join()"
   ]
  },
  {
   "cell_type": "markdown",
   "metadata": {},
   "source": [
    "## Training from the signature data\n",
    "The accuracy of the training is predicted (the resulting accuracy is a sign of **overfitting**, more data is needed!)"
   ]
  },
  {
   "cell_type": "code",
   "execution_count": 4,
   "metadata": {},
   "outputs": [
    {
     "name": "stdout",
     "output_type": "stream",
     "text": [
      "started training\n",
      "finished training, time: 34.48882818222046\n",
      "Accuracy on Train set: 0.9971575809396159\n"
     ]
    }
   ],
   "source": [
    "ca.load_training_signatures(\"training_data.pkl\")\n",
    "ca.train_classifier()\n",
    "ca.save_classifier(\"mlpclassifier.pkl\")\n",
    "ca.save_scaler(\"standardscaler.pkl\")"
   ]
  },
  {
   "cell_type": "markdown",
   "metadata": {},
   "source": [
    "## Predicting the test dataset\n",
    "You will retrieve a list of accuracies on the dataset for every noiselevel. \n",
    "\n",
    "If you want to plot the data, all of the data is in **ca.test_signatures** (which is a simple dictionary)\n",
    "\n",
    "Other than that it is up to you what you do with a trained classifier. Also this repository provides already trained classifiers and scalers."
   ]
  },
  {
   "cell_type": "code",
   "execution_count": 5,
   "metadata": {},
   "outputs": [
    {
     "name": "stdout",
     "output_type": "stream",
     "text": [
      "predicted struc fcc idx 0 1.0\n",
      "predicted struc fcc idx 1 1.0\n",
      "predicted struc fcc idx 2 1.0\n",
      "predicted struc fcc idx 3 1.0\n",
      "predicted struc fcc idx 4 1.0\n",
      "predicted struc fcc idx 5 1.0\n",
      "predicted struc fcc idx 6 0.99951171875\n",
      "predicted struc fcc idx 7 0.9990229604298974\n",
      "predicted struc fcc idx 8 0.9985308521057786\n",
      "predicted struc fcc idx 9 0.9975111996017919\n",
      "predicted struc fcc idx 10 0.9989550679205852\n",
      "predicted struc fcc idx 11 0.997628927089508\n",
      "predicted struc fcc idx 12 0.8085603112840467\n",
      "predicted struc fcc idx 13 0.732360097323601\n",
      "predicted struc fcc idx 14 0.7344913151364765\n",
      "predicted struc fcc idx 15 0.695906432748538\n",
      "predicted struc fcc idx 16 0.7321428571428571\n",
      "predicted struc fcc idx 17 0.5555555555555556\n",
      "predicted struc fcc idx 18 0.6666666666666666\n",
      "predicted struc fcc idx 19 nan\n",
      "predicted struc fcc idx 20 nan\n",
      "predicted struc hcp idx 0 1.0\n",
      "predicted struc hcp idx 1 1.0\n",
      "predicted struc hcp idx 2 1.0\n",
      "predicted struc hcp idx 3 1.0\n",
      "predicted struc hcp idx 4 1.0\n",
      "predicted struc hcp idx 5 1.0\n",
      "predicted struc hcp idx 6 0.9994837377387713\n",
      "predicted struc hcp idx 7 0.9984415584415585\n",
      "predicted struc hcp idx 8 0.9957081545064378\n",
      "predicted struc hcp idx 9 0.9902467010900746\n",
      "predicted struc hcp idx 10 0.9794661190965093\n",
      "predicted struc hcp idx 11 0.9681050656660413\n",
      "predicted struc hcp idx 12 0.6619047619047619\n",
      "predicted struc hcp idx 13 0.5396825396825397\n",
      "predicted struc hcp idx 14 0.47619047619047616\n",
      "predicted struc hcp idx 15 0.34285714285714286\n",
      "predicted struc hcp idx 16 0.25\n",
      "predicted struc hcp idx 17 0.2\n",
      "predicted struc hcp idx 18 0.0\n",
      "predicted struc hcp idx 19 nan\n",
      "predicted struc hcp idx 20 nan\n",
      "predicted struc bcc idx 0 1.0\n",
      "predicted struc bcc idx 1 1.0\n",
      "predicted struc bcc idx 2 1.0\n",
      "predicted struc bcc idx 3 1.0\n",
      "predicted struc bcc idx 4 1.0\n",
      "predicted struc bcc idx 5 1.0\n",
      "predicted struc bcc idx 6 1.0\n",
      "predicted struc bcc idx 7 1.0\n",
      "predicted struc bcc idx 8 0.9994209612044007\n",
      "predicted struc bcc idx 9 1.0\n",
      "predicted struc bcc idx 10 0.9981981981981982\n",
      "predicted struc bcc idx 11 0.994140625\n",
      "predicted struc bcc idx 12 0.8324197337509789\n",
      "predicted struc bcc idx 13 0.7636566332218506\n",
      "predicted struc bcc idx 14 0.7378640776699029\n",
      "predicted struc bcc idx 15 0.7312252964426877\n",
      "predicted struc bcc idx 16 0.7211538461538461\n",
      "predicted struc bcc idx 17 0.6129032258064516\n",
      "predicted struc bcc idx 18 0.7142857142857143\n",
      "predicted struc bcc idx 19 1.0\n",
      "predicted struc bcc idx 20 nan\n"
     ]
    },
    {
     "name": "stderr",
     "output_type": "stream",
     "text": [
      "/home/dietz/anaconda3/lib/python3.6/site-packages/numpy/lib/function_base.py:1128: RuntimeWarning: Mean of empty slice.\n",
      "  avg = a.mean(axis)\n",
      "/home/dietz/anaconda3/lib/python3.6/site-packages/numpy/core/_methods.py:80: RuntimeWarning: invalid value encountered in double_scalars\n",
      "  ret = ret.dtype.type(ret / rcount)\n"
     ]
    }
   ],
   "source": [
    "ca.load_scaler(\"standardscaler.pkl\")\n",
    "ca.load_classifier(\"mlpclassifier.pkl\")\n",
    "ca.load_test_signatures(\"test_data.pkl\")\n",
    "ca.predict_test()"
   ]
  },
  {
   "cell_type": "code",
   "execution_count": null,
   "metadata": {},
   "outputs": [],
   "source": []
  }
 ],
 "metadata": {
  "kernelspec": {
   "display_name": "Python 3",
   "language": "python",
   "name": "python3"
  },
  "language_info": {
   "codemirror_mode": {
    "name": "ipython",
    "version": 3
   },
   "file_extension": ".py",
   "mimetype": "text/x-python",
   "name": "python",
   "nbconvert_exporter": "python",
   "pygments_lexer": "ipython3",
   "version": "3.6.5"
  }
 },
 "nbformat": 4,
 "nbformat_minor": 2
}
